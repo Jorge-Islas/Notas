{
 "cells": [
  {
   "cell_type": "markdown",
   "metadata": {},
   "source": [
    "# Fundamentos de Machine Learning\n",
    "\n",
    "## Términos\n",
    "\n",
    "- **Training data**: datos utilizados para ajustar los modelos\n",
    "\n",
    "- **Testing data**: datos no utilizados para entrenar el modelo que son usados para probar el desempeño de este con nuevas observaciones / datos.\n",
    "\n",
    "- **Sesgo / Bias**: La incapacidad de un modelo de ML para captar y representar la relación verdadera entre los datos.\n",
    "\n",
    "- **Varianza (ML)**: Se refiere a qué tanto cambiarían las predicciones si el modelo se ajustara a un conjunto de entrenamiento distinto.\n",
    "\n",
    "- **Sobreajuste / overfitting**: Cuando un modelo se ajusta \"muy bien\" al conjunto de entrenamiento, pero falla al predecir el cunjunto de prueba.\n",
    "\n",
    "## Cosas por cuidar\n",
    "\n",
    "- La muestra debe reflejar lo mejor posible a la población de estudio, puesto que, en caso contrario, esto puede causar un sesgo debido a la selección de la muestra en las predicciones derivadas de dicha muestra.\n",
    "\n",
    "- Hay veces que, aunque se quiera tomar una muestra independiente, no es posible debido a la estructura implícita de la población. En estos casos se puede modelar utilizando procesos de estado discretos de Markov.\n",
    "\n",
    "## Problemas fundamentales en Machine Learning\n",
    "\n",
    "### Clustering\n",
    "\n",
    "Si se tiene una matriz de datos / conjunto de datos $D$ de tamaño $n\\times d$, se quiere lograr particionar a $D$ en grupos de filas similares.\n",
    "\n",
    "### Clasificación y Regresión\n",
    "\n",
    "**Clasificación**\n",
    "\n",
    "Este problema está relacionado con el de clustering, pero en este caso los datos ya contienen información explícita de los grupos (hay etiqueta de grupo para cada fila). En este caso se quiere crear un modelo que, dada una observación nueva, prediga a qué grupo pertence (clasifique la nueva observación).\n",
    "\n",
    "**Regresión**\n",
    "\n",
    "En este problema, la variable, feature o característica que se quiere predecir es un numérica. Aparte de esto, es igual al problema de clasificación.\n",
    "\n",
    "### Detección de outliers / valores atípicos\n",
    "\n",
    "> Un valor atípico es una observación que se aleja tanto con respecto a las demás observaciones que se sospecha que fue generada por un mecanismo probabilístico diferente al de las demás observaciones."
   ]
  },
  {
   "cell_type": "markdown",
   "metadata": {},
   "source": [
    "# Ejercicios"
   ]
  },
  {
   "cell_type": "code",
   "execution_count": 45,
   "metadata": {},
   "outputs": [],
   "source": [
    "import numpy as np\n",
    "import matplotlib.pyplot as plt\n",
    "from scipy.stats import binom"
   ]
  },
  {
   "cell_type": "markdown",
   "metadata": {},
   "source": [
    "## Ejercicio 1"
   ]
  },
  {
   "cell_type": "code",
   "execution_count": 44,
   "metadata": {},
   "outputs": [
    {
     "data": {
      "image/png": "[encoded data removed]",
      "text/plain": [
       "<Figure size 640x480 with 1 Axes>"
      ]
     },
     "metadata": {},
     "output_type": "display_data"
    }
   ],
   "source": [
    "# Lanza una moneda n veces y grafica\n",
    "# la porción de \"heads\" al incrementar n\n",
    "# Explica la tendencia ilustrada por la gráfica\n",
    "n = 1000\n",
    "tiradas = np.random.choice([0,1],size=n)\n",
    "num_tirada = np.arange(n)+1\n",
    "acumulado = [np.sum(tiradas[:i+1]) for i in range(n)]\n",
    "\n",
    "x = np.linspace(0,1000,10)\n",
    "plt.plot(x, x/2, c='r', label=\"$y=\\\\frac{1}{2}x$\")\n",
    "\n",
    "plt.plot(num_tirada, acumulado, c='b', label=\"Heads acumulados\")\n",
    "plt.plot([0,1000],[500,500],\"--\",c='k', label=\"500 heads\")\n",
    "plt.xlim([0,1000])\n",
    "plt.ylim([0,1000])\n",
    "plt.legend()\n",
    "plt.show()"
   ]
  },
  {
   "cell_type": "markdown",
   "metadata": {},
   "source": [
    "La tendencia es que salga una recta aproximada a $y=\\frac{1}{2}x$, lo cual es congruente con el 50% de probabilidad que hay de que en cada tirada independiente salga \"heads\"."
   ]
  },
  {
   "cell_type": "markdown",
   "metadata": {},
   "source": [
    "## Ejercicio 2"
   ]
  },
  {
   "cell_type": "code",
   "execution_count": 48,
   "metadata": {},
   "outputs": [
    {
     "name": "stdout",
     "output_type": "stream",
     "text": [
      "Probabilidad de que salgan 10 / 10 'heads': 0.0977%\n"
     ]
    }
   ],
   "source": [
    "# Supongamos que lanzas una moneda 10 veces\n",
    "# y sale \"heads\". Esto te hace pensar que la\n",
    "# moneda está sesgada?\n",
    "k = 10\n",
    "probabilidad = binom.pmf(k,10,0.5)\n",
    "print(f\"Probabilidad de que salgan 10 / 10 'heads': {100*probabilidad:.4f}%\")"
   ]
  },
  {
   "cell_type": "markdown",
   "metadata": {},
   "source": [
    "> Dado que la probabilidad de que salgan 10 \"heads\" de 10 tiradas es 0.0977%, es posible que la moneda esté sesgada."
   ]
  },
  {
   "cell_type": "markdown",
   "metadata": {},
   "source": [
    "## Ejercicio 3"
   ]
  },
  {
   "cell_type": "markdown",
   "metadata": {},
   "source": [
    "Supongamos que haces una encuesta a todos tus compañeros de clase acerca de su afiliación política (demócrata / republicano) y tabulas los resultados para estimar la proporción de la población en los EUA que son demócratas. Cuáles son las fuentes de error en este enfoque?\n",
    "\n",
    "> La muestra elegida no representa a la población que se quiere estudiar, ya que son muy pocos individuaos que representan una población muy particular y con características y una distribución potencialmente distinta a la población total de EUA."
   ]
  },
  {
   "cell_type": "markdown",
   "metadata": {},
   "source": [
    "## Ejercicio 4\n",
    "\n",
    "Supongamos que tienes datos con features numéricas. Sin embargo, tienes un modelo de machine learning que funciona solo con datos categóricos. Qué tipo de preprocesamiento puedes hacerle a los datos para que el modelo funcione con tu dataset numérico?\n",
    "\n",
    "> Se puede aplicar la \"discretización\" o división por grupos, la cual consiste en dividir los valores numéricos en rangos de valores, cada uno representando una categoría o grupo."
   ]
  },
  {
   "cell_type": "markdown",
   "metadata": {},
   "source": [
    "## Ejercicio 5\n",
    "\n",
    "Supongamos que tienes datos con features demográficas y de afiliación política. Dada una persona para la cual solamente sabes los atributos demográficos, quieres predecir su afiliación política. Qué tipo de modelo de machine learning usarías?\n",
    "\n",
    "> Usaría un modelo de clasificación, ya que la afiliación política es \"demócrata\" o \"republicano\". Podría entrenarlo con el conjunto de datos que contiene información de la afiliación política, para después predecir dicha afiliación de personas \"nuevas\"."
   ]
  },
  {
   "cell_type": "markdown",
   "metadata": {},
   "source": [
    "## Ejercicio 6\n",
    "\n",
    "Considera una modificación al problema anterior con la diferencia de que tus datos ahora contienen atributos demográficos y altura. Ahora quieres predecir la altura. Qué tipo de modelo demachine learning sería útil para resolver este problema?\n",
    "\n",
    "> Un modelo de regresión, ya que la altura es una variable numérica. Podría entrenarlo con el conjunto de datos que contiene información de la altura, para después predecir dicha altura de personas \"nuevas\"."
   ]
  },
  {
   "cell_type": "markdown",
   "metadata": {},
   "source": [
    "## Ejercicio 7\n",
    "\n",
    "Supongamos que tienes datos de la conducta de consumo de clientes junto con sus datos demográficos. Quieres segmentar a los clientes en grupos homogéneos basándote en sus atributos demográficos para analizar la conducta de consumo de cada grupo de forma separada. Qué tipo de modelo de machine learning sería útil para este tipo de segmentación?\n",
    "\n",
    "> Clustering, pues no se tiene información previa de dicha segmentación, sino justamente se quiere lograr hacer dicha segmentación."
   ]
  },
  {
   "cell_type": "markdown",
   "metadata": {},
   "source": [
    "## Ejercicio 8\n",
    "\n",
    "Al ingresar datos numéricos multidimensionales en una hoja de cálculo sospechas que se cometieron errore atroces en el proceso de ingreso de datos. Quisieras eliminar estas filas de tu hoja de cálculo. Qué tipo de modelo de machine learning sería útil para detectar dichas filas?\n",
    "\n",
    "> Un modelo de detección de outliers / **valores atípicos**, ya que las filas erróneas justo pueden ser este tipo de valores."
   ]
  },
  {
   "cell_type": "markdown",
   "metadata": {},
   "source": [
    "## Ejercicio 9\n",
    "\n",
    "Supongamos que tienes un modelo de machine learning que puede realizar regresión con variables numéricas dependientes. Al mismo tiempo, tienes un conjunto de datos de clasificación en el que las etiquetas son \"Azul\", \"Verde\" y \"Rojo\". Propón una o más formas sencillas en las que puedes modificar el modelo de regresión a uno de clasificación.\n",
    "\n",
    "> La salida del modelo puede cambiarse a un vector de 3 dimensiones, cada una representando la probabilidad de que el registro pertenezca a la clase \"Azul\", \"Verde\" o \"Rojo\". También poría decirse que 0=\"Azul\", 1=\"Verde\" y 2=\"Rojo\"."
   ]
  },
  {
   "cell_type": "markdown",
   "metadata": {},
   "source": [
    "## Ejercicio 10\n",
    "\n",
    "Supongamos que puntúas cada punto en un conjunto de datos como la distancia euclidiana a su vecino más cercano. Argumenta por qué este puntuaje es una medida de \"atipiquez\".\n",
    "\n",
    "> Esta medida puede utilizarse para detectar valores atípicos bajo la suposición de que: si un punto tiene una distancia \"grande\" a su vecino más cercano a comparación de los demás puntos con sus respectivos vecinos más cercanos, ese punto no pertenece al \"grupo\" de ese conjunto de datos. Sin embargo, si hay al menos dos puntos atípicos cercanos, esta medida no podrá identificarlos como tal, ya que las distancias a sus vecinos más cercanos será pequeña."
   ]
  }
 ],
 "metadata": {
  "kernelspec": {
   "display_name": "code",
   "language": "python",
   "name": "python3"
  },
  "language_info": {
   "codemirror_mode": {
    "name": "ipython",
    "version": 3
   },
   "file_extension": ".py",
   "mimetype": "text/x-python",
   "name": "python",
   "nbconvert_exporter": "python",
   "pygments_lexer": "ipython3",
   "version": "3.12.3"
  }
 },
 "nbformat": 4,
 "nbformat_minor": 2
}
